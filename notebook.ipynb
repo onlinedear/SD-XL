{
 "cells": [
  {
   "cell_type": "code",
   "execution_count": null,
   "metadata": {
    "colab": {
     "base_uri": "https://localhost:8080/"
    },
    "id": "-ayiROzqJeXB",
    "outputId": "c7710012-c311-4203-9dc8-6333f0eb0e66"
   },
   "outputs": [],
   "source": [
    "!git clone -q https://huggingface.co/spaces/hysts/SD-XL"
   ]
  },
  {
   "cell_type": "code",
   "execution_count": null,
   "metadata": {
    "colab": {
     "base_uri": "https://localhost:8080/"
    },
    "id": "d-GcdYVAJmt0",
    "outputId": "d7489bf9-df54-4e96-ed1e-cf392f34b890"
   },
   "outputs": [],
   "source": [
    "%cd SD-XL"
   ]
  },
  {
   "cell_type": "code",
   "execution_count": null,
   "metadata": {
    "id": "vTWR-Xr6JoBJ"
   },
   "outputs": [],
   "source": [
    "!pip install -q -r requirements.txt"
   ]
  },
  {
   "cell_type": "code",
   "execution_count": null,
   "metadata": {
    "id": "QSF_GqTKJsN5"
   },
   "outputs": [],
   "source": [
    "import os\n",
    "\n",
    "os.environ['ENABLE_REFINER'] = '0'"
   ]
  },
  {
   "cell_type": "code",
   "execution_count": null,
   "metadata": {
    "colab": {
     "base_uri": "https://localhost:8080/",
     "height": 710,
     "referenced_widgets": [
      "68c1e33d84b94f009db258e278fe7068",
      "b1b1ca6d1cc44a738c3b4b6de17f3a5b",
      "104833166be14046873bfea2c1a2a887",
      "32f25821a48d4c9589f58c134e3b56d7",
      "3ed7cc7759074df58a91fd7fb28a4933",
      "c8885bd4a35d4cdcbb6acce5c52e15e2",
      "5d1d83dfd090460d9f948b71f95aaed8",
      "773e06ed1d734e53a7def5305cd35131",
      "753b336dbeb147349e4520715035d8da",
      "c5215236213242b89a971a1095afcea5",
      "bd0a6a0e16944533b59eaa3f5188e99f",
      "96b1de32a367400bba75babd39bc7308",
      "65291f8203964f4499a1b422af91f75e",
      "0c3fad2a850b4320b47586ff4d0ac73e",
      "69a6be1033c5424988a702c5d69590ee",
      "b22729413d9b449a94892b91d95cf1e4",
      "6c8f51c69f394eeea67eb515831f60b2",
      "bb779e8367e44a939d607ace70493d94",
      "4d3862b22c3245d8b3d8b6442e149c8d",
      "16ef5a40c9d441aea180d1732442df97",
      "db54ca7070cf43adbda196d44967464c",
      "cadddb2624804c308710a219bf8cf4f3"
     ]
    },
    "id": "4FTmJkt_J8j_",
    "outputId": "850aba86-acb4-4452-bac2-28b5c815ec0f"
   },
   "outputs": [],
   "source": [
    "import app"
   ]
  },
  {
   "cell_type": "code",
   "execution_count": null,
   "metadata": {
    "id": "LJbHj7yLJ9p0"
   },
   "outputs": [],
   "source": []
  }
 ],
 "metadata": {
  "accelerator": "GPU",
  "colab": {
   "gpuType": "T4",
   "provenance": []
  },
  "language_info": {
   "name": "python"
  }
 },
 "nbformat": 4,
 "nbformat_minor": 0
}
